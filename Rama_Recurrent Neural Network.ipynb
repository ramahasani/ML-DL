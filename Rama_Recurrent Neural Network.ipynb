{
 "cells": [
  {
   "cell_type": "markdown",
   "id": "middle-mills",
   "metadata": {},
   "source": [
    "load mnist data for simple example, unpacks the data to features and label, split them for training and testing"
   ]
  },
  {
   "cell_type": "code",
   "execution_count": 1,
   "id": "strategic-stationery",
   "metadata": {},
   "outputs": [
    {
     "name": "stdout",
     "output_type": "stream",
     "text": [
      "(60000, 28, 28)\n",
      "(28, 28)\n"
     ]
    }
   ],
   "source": [
    "import tensorflow as tf\n",
    "from tensorflow.keras.models import Sequential\n",
    "from tensorflow.keras.layers import Dense, Dropout, LSTM\n",
    "mnist = tf.keras.datasets.mnist \n",
    "(x_train, y_train),(x_test, y_test) = mnist.load_data()  \n",
    "\n",
    "#normalize the data\n",
    "x_train = x_train/255.0\n",
    "x_test = x_test/255.0\n",
    "\n",
    "print(x_train.shape)\n",
    "print(x_train[0].shape)#first sample"
   ]
  },
  {
   "cell_type": "markdown",
   "id": "alert-apparatus",
   "metadata": {},
   "source": [
    "model it"
   ]
  },
  {
   "cell_type": "code",
   "execution_count": 2,
   "id": "painful-collar",
   "metadata": {},
   "outputs": [],
   "source": [
    "model = Sequential()\n",
    "\n",
    "#first layer\n",
    "#return sequences for continueing to another recurrent layer\n",
    "model.add(LSTM(128, input_shape=(x_train.shape[1:]), activation='relu', return_sequences=True ))\n",
    "model.add(Dropout(0.2))\n",
    "\n",
    "#second layer\n",
    "model.add(LSTM(128, activation='relu'))\n",
    "model.add(Dropout(0.1))\n",
    "\n",
    "#Dense layer\n",
    "model.add(Dense(32, activation='relu'))\n",
    "model.add(Dropout(0.2))\n",
    "\n",
    "#final Dense layer\n",
    "model.add(Dense(10, activation='softmax'))"
   ]
  },
  {
   "cell_type": "markdown",
   "id": "northern-pasta",
   "metadata": {},
   "source": [
    "compile the model"
   ]
  },
  {
   "cell_type": "code",
   "execution_count": 3,
   "id": "boolean-worker",
   "metadata": {},
   "outputs": [
    {
     "name": "stdout",
     "output_type": "stream",
     "text": [
      "Epoch 1/3\n",
      "1875/1875 [==============================] - 61s 32ms/step - loss: 1.0858 - accuracy: 0.6258 - val_loss: 0.1521 - val_accuracy: 0.9559\n",
      "Epoch 2/3\n",
      "1875/1875 [==============================] - 80s 43ms/step - loss: 0.2075 - accuracy: 0.9450 - val_loss: 0.0877 - val_accuracy: 0.9741\n",
      "Epoch 3/3\n",
      "1875/1875 [==============================] - 113s 60ms/step - loss: 0.1068 - accuracy: 0.9708 - val_loss: 0.0792 - val_accuracy: 0.9812\n"
     ]
    },
    {
     "data": {
      "text/plain": [
       "<tensorflow.python.keras.callbacks.History at 0x1ab5fccc700>"
      ]
     },
     "execution_count": 3,
     "metadata": {},
     "output_type": "execute_result"
    }
   ],
   "source": [
    "#optimizer learning rate from 1e-3 to 1e-6\n",
    "opt = tf.keras.optimizers.Adam(lr=0.001, decay=1e-6)\n",
    "\n",
    "model.compile(\n",
    "    loss='sparse_categorical_crossentropy',\n",
    "    optimizer=opt,\n",
    "    metrics=['accuracy'],\n",
    ")\n",
    "\n",
    "model.fit(x_train,\n",
    "          y_train,\n",
    "          epochs=3,\n",
    "          validation_data=(x_test, y_test))"
   ]
  },
  {
   "cell_type": "code",
   "execution_count": null,
   "id": "pressing-paraguay",
   "metadata": {},
   "outputs": [],
   "source": []
  }
 ],
 "metadata": {
  "kernelspec": {
   "display_name": "Python 3",
   "language": "python",
   "name": "python3"
  },
  "language_info": {
   "codemirror_mode": {
    "name": "ipython",
    "version": 3
   },
   "file_extension": ".py",
   "mimetype": "text/x-python",
   "name": "python",
   "nbconvert_exporter": "python",
   "pygments_lexer": "ipython3",
   "version": "3.8.7"
  }
 },
 "nbformat": 4,
 "nbformat_minor": 5
}
