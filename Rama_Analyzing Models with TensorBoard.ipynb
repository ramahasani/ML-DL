{
 "cells": [
  {
   "cell_type": "markdown",
   "metadata": {},
   "source": [
    "run the previous project"
   ]
  },
  {
   "cell_type": "code",
   "execution_count": 8,
   "metadata": {},
   "outputs": [
    {
     "name": "stdout",
     "output_type": "stream",
     "text": [
      "Epoch 1/3\n",
      "546/546 [==============================] - 1503s 3s/step - loss: 0.7561 - accuracy: 0.5393 - val_loss: 0.6528 - val_accuracy: 0.6340\n",
      "Epoch 2/3\n",
      "546/546 [==============================] - 1321s 2s/step - loss: 0.6270 - accuracy: 0.6589 - val_loss: 0.6016 - val_accuracy: 0.6891\n",
      "Epoch 3/3\n",
      "546/546 [==============================] - 1234s 2s/step - loss: 0.5468 - accuracy: 0.7262 - val_loss: 0.5459 - val_accuracy: 0.7313\n"
     ]
    },
    {
     "data": {
      "text/plain": [
       "<tensorflow.python.keras.callbacks.History at 0x1eb96157070>"
      ]
     },
     "execution_count": 8,
     "metadata": {},
     "output_type": "execute_result"
    }
   ],
   "source": [
    "import tensorflow as tf\n",
    "import numpy as np\n",
    "from tensorflow.keras.datasets import cifar10\n",
    "from tensorflow.keras.preprocessing.image import ImageDataGenerator\n",
    "from tensorflow.keras.models import Sequential\n",
    "from tensorflow.keras.layers import Dense, Dropout, Activation, Flatten\n",
    "from tensorflow.keras.layers import Conv2D, MaxPooling2D\n",
    "import pickle\n",
    "\n",
    "\n",
    "#specify fraction of cpu for helping RAM\n",
    "#gpu_options = tf.compat.v1.GPUOptions(per_process_gpu_memory_fraction=0.333)\n",
    "#sess =tf.compat.v1.Session(config=tf.compat.v1.ConfigProto(gpu_options=gpu_options))\n",
    "\n",
    "\n",
    "#loading the features and labeled data\n",
    "pickle_in = open(\"X.pickle\",\"rb\")\n",
    "X = pickle.load(pickle_in)\n",
    "\n",
    "pickle_in = open(\"y.pickle\",\"rb\")\n",
    "y = pickle.load(pickle_in)\n",
    "\n",
    "#normalize the pixel data\n",
    "X=np.array(X/255.0) #the max value of pixel is 255\n",
    "y=np.array(y)\n",
    "\n",
    "#modelling\n",
    "model = Sequential()\n",
    "\n",
    "model.add(Conv2D(256, (3, 3), input_shape=X.shape[1:]))#convolitional layer\n",
    "model.add(Activation('relu'))#activation layer\n",
    "model.add(MaxPooling2D(pool_size=(2, 2)))#pooling layer\n",
    "\n",
    "model.add(Conv2D(256, (3, 3)))\n",
    "model.add(Activation('relu'))\n",
    "model.add(MaxPooling2D(pool_size=(2, 2)))\n",
    "\n",
    "model.add(Flatten())  # converts 3D feature maps to 1D feature vectors\n",
    "model.add(Dense(64))\n",
    "model.add(Activation('relu'))\n",
    "\n",
    "model.add(Dense(1))#output layer\n",
    "model.add(Activation('sigmoid'))#activation layer\n",
    "\n",
    "model.compile(loss='binary_crossentropy',\n",
    "              optimizer='adam',\n",
    "              metrics=['accuracy'])\n",
    "\n",
    "model.fit(X, y, batch_size=32, epochs =3, validation_split=0.3)"
   ]
  },
  {
   "cell_type": "markdown",
   "metadata": {},
   "source": [
    "define a Tensorboard callback for visualizing"
   ]
  },
  {
   "cell_type": "code",
   "execution_count": 10,
   "metadata": {},
   "outputs": [
    {
     "name": "stdout",
     "output_type": "stream",
     "text": [
      "Epoch 1/3\n",
      "546/546 [==============================] - 1208s 2s/step - loss: 0.7246 - accuracy: 0.5419 - val_loss: 0.6699 - val_accuracy: 0.5867\n",
      "Epoch 2/3\n",
      "546/546 [==============================] - 1215s 2s/step - loss: 0.6604 - accuracy: 0.6014 - val_loss: 0.6269 - val_accuracy: 0.6539\n",
      "Epoch 3/3\n",
      "546/546 [==============================] - 1232s 2s/step - loss: 0.6100 - accuracy: 0.6722 - val_loss: 0.6072 - val_accuracy: 0.6770\n"
     ]
    },
    {
     "data": {
      "text/plain": [
       "<tensorflow.python.keras.callbacks.History at 0x1eb99f65430>"
      ]
     },
     "execution_count": 10,
     "metadata": {},
     "output_type": "execute_result"
    }
   ],
   "source": [
    "from tensorflow.keras.callbacks import TensorBoard\n",
    "import time\n",
    "\n",
    "\n",
    "#define a callback\n",
    "NAME = \"Cats-vs-dog-cnn-64x2-{}\".format(int(time.time()))\n",
    "tensorboard = TensorBoard(log_dir='logs/{}'.format(NAME))\n",
    "\n",
    "#loading the features and labeled data\n",
    "pickle_in = open(\"X.pickle\",\"rb\")\n",
    "X = pickle.load(pickle_in)\n",
    "\n",
    "pickle_in = open(\"y.pickle\",\"rb\")\n",
    "y = pickle.load(pickle_in)\n",
    "\n",
    "#normalize the pixel data\n",
    "X=np.array(X/255.0) #the max value of pixel is 255\n",
    "y=np.array(y)\n",
    "\n",
    "#modelling\n",
    "model = Sequential()\n",
    "\n",
    "model.add(Conv2D(256, (3, 3), input_shape=X.shape[1:]))#convolutional layer\n",
    "model.add(Activation('relu'))#activation layer\n",
    "model.add(MaxPooling2D(pool_size=(2, 2)))#pooling layer\n",
    "\n",
    "model.add(Conv2D(256, (3, 3)))\n",
    "model.add(Activation('relu'))\n",
    "model.add(MaxPooling2D(pool_size=(2, 2)))\n",
    "\n",
    "model.add(Flatten())  # converts 3D feature maps to 1D feature vectors\n",
    "model.add(Dense(64))\n",
    "model.add(Activation('relu'))\n",
    "\n",
    "model.add(Dense(1))#output layer\n",
    "model.add(Activation('sigmoid'))#activation layer\n",
    "\n",
    "model.compile(loss='binary_crossentropy',\n",
    "              optimizer='adam',\n",
    "              metrics=['accuracy'])\n",
    "\n",
    "model.fit(X, y, batch_size=32, epochs =3, validation_split=0.3, callbacks=[tensorboard])"
   ]
  },
  {
   "cell_type": "markdown",
   "metadata": {},
   "source": [
    "delete the dense and activation layer before the output, minimize the model from 256 to 64"
   ]
  },
  {
   "cell_type": "code",
   "execution_count": 12,
   "metadata": {},
   "outputs": [
    {
     "name": "stdout",
     "output_type": "stream",
     "text": [
      "Epoch 1/10\n",
      "546/546 [==============================] - 165s 301ms/step - loss: 0.6681 - accuracy: 0.5937 - val_loss: 0.5722 - val_accuracy: 0.7050\n",
      "Epoch 2/10\n",
      "546/546 [==============================] - 175s 320ms/step - loss: 0.5511 - accuracy: 0.7204 - val_loss: 0.5218 - val_accuracy: 0.7424\n",
      "Epoch 3/10\n",
      "546/546 [==============================] - 171s 312ms/step - loss: 0.4929 - accuracy: 0.7630 - val_loss: 0.5197 - val_accuracy: 0.7477\n",
      "Epoch 4/10\n",
      "546/546 [==============================] - 173s 316ms/step - loss: 0.4502 - accuracy: 0.7894 - val_loss: 0.5058 - val_accuracy: 0.7584\n",
      "Epoch 5/10\n",
      "546/546 [==============================] - 179s 328ms/step - loss: 0.4172 - accuracy: 0.8082 - val_loss: 0.4866 - val_accuracy: 0.7707\n",
      "Epoch 6/10\n",
      "546/546 [==============================] - 177s 324ms/step - loss: 0.3830 - accuracy: 0.8253 - val_loss: 0.4803 - val_accuracy: 0.7758\n",
      "Epoch 7/10\n",
      "546/546 [==============================] - 186s 340ms/step - loss: 0.3533 - accuracy: 0.8498 - val_loss: 0.4773 - val_accuracy: 0.7858\n",
      "Epoch 8/10\n",
      "546/546 [==============================] - 182s 333ms/step - loss: 0.3363 - accuracy: 0.8553 - val_loss: 0.4890 - val_accuracy: 0.7745\n",
      "Epoch 9/10\n",
      "546/546 [==============================] - 180s 329ms/step - loss: 0.3056 - accuracy: 0.8703 - val_loss: 0.4863 - val_accuracy: 0.7851\n",
      "Epoch 10/10\n",
      "546/546 [==============================] - 183s 334ms/step - loss: 0.2796 - accuracy: 0.8820 - val_loss: 0.5028 - val_accuracy: 0.7842\n"
     ]
    },
    {
     "data": {
      "text/plain": [
       "<tensorflow.python.keras.callbacks.History at 0x1eb9dbcafa0>"
      ]
     },
     "execution_count": 12,
     "metadata": {},
     "output_type": "execute_result"
    }
   ],
   "source": [
    "from tensorflow.keras.callbacks import TensorBoard\n",
    "import time\n",
    "\n",
    "\n",
    "#define a callback\n",
    "NAME = \"Cats-vs-dog-cnn-64x2-{}\".format(int(time.time()))\n",
    "tensorboard = TensorBoard(log_dir='logs/{}'.format(NAME))\n",
    "\n",
    "#loading the features and labeled data\n",
    "pickle_in = open(\"X.pickle\",\"rb\")\n",
    "X = pickle.load(pickle_in)\n",
    "\n",
    "pickle_in = open(\"y.pickle\",\"rb\")\n",
    "y = pickle.load(pickle_in)\n",
    "\n",
    "#normalize the pixel data\n",
    "X=np.array(X/255.0) #the max value of pixel is 255\n",
    "y=np.array(y)\n",
    "\n",
    "#modelling\n",
    "model = Sequential()\n",
    "\n",
    "model.add(Conv2D(64, (3, 3), input_shape=X.shape[1:]))#convolutional layer\n",
    "model.add(Activation('relu'))#activation layer\n",
    "model.add(MaxPooling2D(pool_size=(2, 2)))#pooling layer\n",
    "\n",
    "model.add(Conv2D(64, (3, 3)))\n",
    "model.add(Activation('relu'))\n",
    "model.add(MaxPooling2D(pool_size=(2, 2)))\n",
    "\n",
    "model.add(Flatten())  # converts 3D feature maps to 1D feature vectors\n",
    "#model.add(Dense(64))\n",
    "#model.add(Activation('relu'))\n",
    "\n",
    "model.add(Dense(1))#output layer\n",
    "model.add(Activation('sigmoid'))#activation layer\n",
    "\n",
    "model.compile(loss='binary_crossentropy',\n",
    "              optimizer='adam',\n",
    "              metrics=['accuracy'])\n",
    "\n",
    "model.fit(X, y, batch_size=32, epochs =10, validation_split=0.3, callbacks=[tensorboard])"
   ]
  },
  {
   "cell_type": "code",
   "execution_count": null,
   "metadata": {},
   "outputs": [],
   "source": []
  }
 ],
 "metadata": {
  "kernelspec": {
   "display_name": "Python 3",
   "language": "python",
   "name": "python3"
  },
  "language_info": {
   "codemirror_mode": {
    "name": "ipython",
    "version": 3
   },
   "file_extension": ".py",
   "mimetype": "text/x-python",
   "name": "python",
   "nbconvert_exporter": "python",
   "pygments_lexer": "ipython3",
   "version": "3.8.7"
  }
 },
 "nbformat": 4,
 "nbformat_minor": 4
}
