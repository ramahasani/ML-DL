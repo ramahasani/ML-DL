{
 "cells": [
  {
   "cell_type": "markdown",
   "id": "traditional-blanket",
   "metadata": {},
   "source": [
    "save the previous code to a model"
   ]
  },
  {
   "cell_type": "code",
   "execution_count": 1,
   "id": "painful-jenny",
   "metadata": {},
   "outputs": [
    {
     "name": "stdout",
     "output_type": "stream",
     "text": [
      "3-conv-64-nodes-0-dense-1611560850\n",
      "Epoch 1/10\n",
      "546/546 [==============================] - 184s 335ms/step - loss: 0.6674 - accuracy: 0.5790 - val_loss: 0.5601 - val_accuracy: 0.7155\n",
      "Epoch 2/10\n",
      "546/546 [==============================] - 205s 376ms/step - loss: 0.5363 - accuracy: 0.7293 - val_loss: 0.5051 - val_accuracy: 0.7586\n",
      "Epoch 3/10\n",
      "546/546 [==============================] - 198s 364ms/step - loss: 0.4593 - accuracy: 0.7855 - val_loss: 0.4402 - val_accuracy: 0.7924\n",
      "Epoch 4/10\n",
      "546/546 [==============================] - 202s 370ms/step - loss: 0.3999 - accuracy: 0.8158 - val_loss: 0.4274 - val_accuracy: 0.7997\n",
      "Epoch 5/10\n",
      "546/546 [==============================] - 200s 367ms/step - loss: 0.3676 - accuracy: 0.8383 - val_loss: 0.3796 - val_accuracy: 0.8314\n",
      "Epoch 6/10\n",
      "546/546 [==============================] - 194s 356ms/step - loss: 0.3326 - accuracy: 0.8563 - val_loss: 0.3681 - val_accuracy: 0.8371\n",
      "Epoch 7/10\n",
      "546/546 [==============================] - 204s 374ms/step - loss: 0.2980 - accuracy: 0.8709 - val_loss: 0.4134 - val_accuracy: 0.8295\n",
      "Epoch 8/10\n",
      "546/546 [==============================] - 196s 359ms/step - loss: 0.2666 - accuracy: 0.8876 - val_loss: 0.3645 - val_accuracy: 0.8437\n",
      "Epoch 9/10\n",
      "546/546 [==============================] - 198s 363ms/step - loss: 0.2482 - accuracy: 0.8958 - val_loss: 0.3678 - val_accuracy: 0.8457\n",
      "Epoch 10/10\n",
      "546/546 [==============================] - 197s 360ms/step - loss: 0.2158 - accuracy: 0.9115 - val_loss: 0.3655 - val_accuracy: 0.8479\n",
      "INFO:tensorflow:Assets written to: Rama2-Catdog-CNN.model\\assets\n"
     ]
    }
   ],
   "source": [
    "import numpy as np\n",
    "from tensorflow.keras.models import Sequential\n",
    "from tensorflow.keras.layers import Dense, Dropout, Activation, Flatten\n",
    "from tensorflow.keras.layers import Conv2D, MaxPooling2D\n",
    "from tensorflow.keras.callbacks import TensorBoard\n",
    "import pickle\n",
    "import time\n",
    "\n",
    "pickle_in = open(\"X.pickle\",\"rb\")\n",
    "X = pickle.load(pickle_in)\n",
    "\n",
    "pickle_in = open(\"y.pickle\",\"rb\")\n",
    "y = pickle.load(pickle_in)\n",
    "\n",
    "X=np.array(X/255.0) #the max value of pixel is 255\n",
    "y=np.array(y)\n",
    "\n",
    "dense_layers = [0]\n",
    "layer_sizes = [64]\n",
    "conv_layers = [3]\n",
    "\n",
    "for dense_layer in dense_layers:\n",
    "    for layer_size in layer_sizes:\n",
    "        for conv_layer in conv_layers:\n",
    "            NAME = \"{}-conv-{}-nodes-{}-dense-{}\".format(conv_layer, layer_size, dense_layer, int(time.time()))\n",
    "            print(NAME)\n",
    "\n",
    "            model = Sequential()\n",
    "\n",
    "            model.add(Conv2D(layer_size, (3, 3), input_shape=X.shape[1:]))\n",
    "            model.add(Activation('relu'))\n",
    "            model.add(MaxPooling2D(pool_size=(2, 2)))\n",
    "\n",
    "            for l in range(conv_layer-1):\n",
    "                model.add(Conv2D(layer_size, (3, 3)))\n",
    "                model.add(Activation('relu'))\n",
    "                model.add(MaxPooling2D(pool_size=(2, 2)))\n",
    "\n",
    "            model.add(Flatten())\n",
    "\n",
    "            for _ in range(dense_layer):\n",
    "                model.add(Dense(layer_size))\n",
    "                model.add(Activation('relu'))\n",
    "\n",
    "            model.add(Dense(1))\n",
    "            model.add(Activation('sigmoid'))\n",
    "\n",
    "            tensorboard = TensorBoard(log_dir=\"logs/{}\".format(NAME))\n",
    "\n",
    "            model.compile(loss='binary_crossentropy',\n",
    "                          optimizer='adam',\n",
    "                          metrics=['accuracy'],\n",
    "                          )\n",
    "\n",
    "            model.fit(X, y,\n",
    "                      batch_size=32,\n",
    "                      epochs=10,\n",
    "                      validation_split=0.3,\n",
    "                      callbacks=[tensorboard])\n",
    "\n",
    "model.save('Rama2-Catdog-CNN.model')"
   ]
  },
  {
   "cell_type": "markdown",
   "id": "clean-viewer",
   "metadata": {},
   "source": [
    "define a function for testing the model with new picture, predict the picture"
   ]
  },
  {
   "cell_type": "code",
   "execution_count": 8,
   "id": "ancient-factor",
   "metadata": {},
   "outputs": [
    {
     "name": "stdout",
     "output_type": "stream",
     "text": [
      "[[0.]]\n"
     ]
    }
   ],
   "source": [
    "import cv2\n",
    "import tensorflow as tf\n",
    "\n",
    "CATEGORIES = ['Dog','Cat']\n",
    "\n",
    "def prepare(filepath):\n",
    "    IMG_SIZE = 100\n",
    "    img_array = cv2.imread(filepath, cv2.IMREAD_GRAYSCALE)\n",
    "    new_array = cv2.resize(img_array, (IMG_SIZE, IMG_SIZE))\n",
    "    return new_array.reshape(-1, IMG_SIZE, IMG_SIZE, 1)\n",
    "\n",
    "model = tf.keras.models.load_model('Rama2-Catdog-CNN.model')\n",
    "\n",
    "prediction = model.predict([prepare('D:/Rama/AI Coaching/catdog/PetImages/dog.jpg')])\n",
    "print(prediction)"
   ]
  },
  {
   "cell_type": "markdown",
   "id": "passive-tokyo",
   "metadata": {},
   "source": [
    "Make it to categories, so it prints cat/dog"
   ]
  },
  {
   "cell_type": "code",
   "execution_count": 9,
   "id": "sexual-insulation",
   "metadata": {},
   "outputs": [
    {
     "name": "stdout",
     "output_type": "stream",
     "text": [
      "Dog\n"
     ]
    }
   ],
   "source": [
    "prediction = model.predict([prepare('D:/Rama/AI Coaching/catdog/PetImages/dog.jpg')])\n",
    "print(CATEGORIES[int(prediction[0][0])])"
   ]
  },
  {
   "cell_type": "code",
   "execution_count": 10,
   "id": "behind-elephant",
   "metadata": {},
   "outputs": [
    {
     "name": "stdout",
     "output_type": "stream",
     "text": [
      "Cat\n"
     ]
    }
   ],
   "source": [
    "prediction = model.predict([prepare('D:/Rama/AI Coaching/catdog/PetImages/cat.jpg')])\n",
    "print(CATEGORIES[int(prediction[0][0])])"
   ]
  }
 ],
 "metadata": {
  "kernelspec": {
   "display_name": "Python 3",
   "language": "python",
   "name": "python3"
  },
  "language_info": {
   "codemirror_mode": {
    "name": "ipython",
    "version": 3
   },
   "file_extension": ".py",
   "mimetype": "text/x-python",
   "name": "python",
   "nbconvert_exporter": "python",
   "pygments_lexer": "ipython3",
   "version": "3.8.7"
  }
 },
 "nbformat": 4,
 "nbformat_minor": 5
}
